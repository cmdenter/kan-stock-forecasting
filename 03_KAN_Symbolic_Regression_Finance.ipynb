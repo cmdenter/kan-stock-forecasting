{
 "cells": [
  {
   "cell_type": "markdown",
   "metadata": {},
   "source": [
    "# KAN Symbolic Regression for Financial Formulas\n",
    "\n",
    "## Inspired by KAN's Relativistic Velocity Example\n",
    "\n",
    "This notebook demonstrates KAN's **symbolic regression** capabilities - discovering mathematical formulas from data.\n",
    "\n",
    "## Approach\n",
    "\n",
    "1. **Generate data** from a known financial formula\n",
    "2. **Train KAN** to fit the data\n",
    "3. **Use `suggest_symbolic()`** to identify functions\n",
    "4. **Fix symbolic functions** and retrain\n",
    "5. **Extract formula** using `symbolic_formula()`\n",
    "\n",
    "## Examples We'll Try\n",
    "\n",
    "1. **Sharpe Ratio**: $\\frac{\\mu - r_f}{\\sigma}$\n",
    "2. **Sortino Ratio**: $\\frac{\\mu - r_f}{\\sigma_{downside}}$\n",
    "3. **Kelly Criterion**: $f^* = \\frac{p(b+1) - 1}{b}$\n",
    "4. **Black-Scholes Greeks**: Various formulas involving $\\Phi$ (normal CDF)"
   ]
  },
  {
   "cell_type": "code",
   "execution_count": 16,
   "metadata": {},
   "outputs": [
    {
     "name": "stdout",
     "output_type": "stream",
     "text": [
      "\u001b[33mWARNING: You are using pip version 21.2.4; however, version 25.3 is available.\n",
      "You should consider upgrading via the '/Users/method314/kan-stock-forecasting/venv/bin/python3 -m pip install --upgrade pip' command.\u001b[0m\n"
     ]
    }
   ],
   "source": [
    "# Install required packages\n",
    "!pip install pykan torch numpy pandas matplotlib sympy tqdm -q"
   ]
  },
  {
   "cell_type": "code",
   "execution_count": 17,
   "metadata": {},
   "outputs": [
    {
     "name": "stdout",
     "output_type": "stream",
     "text": [
      "Device: cpu\n",
      "Libraries imported successfully!\n"
     ]
    }
   ],
   "source": [
    "import torch\n",
    "import numpy as np\n",
    "import matplotlib.pyplot as plt\n",
    "from sympy import *\n",
    "import warnings\n",
    "warnings.filterwarnings('ignore')\n",
    "\n",
    "from kan import KAN, create_dataset\n",
    "from kan.utils import ex_round\n",
    "\n",
    "device = torch.device('cuda' if torch.cuda.is_available() else 'cpu')\n",
    "print(f\"Device: {device}\")\n",
    "\n",
    "# Set random seeds\n",
    "torch.manual_seed(42)\n",
    "np.random.seed(42)\n",
    "\n",
    "print(\"Libraries imported successfully!\")"
   ]
  },
  {
   "cell_type": "markdown",
   "metadata": {},
   "source": [
    "## Example 1: Discover the Sharpe Ratio Formula\n",
    "\n",
    "**True Formula**: $\\text{Sharpe} = \\frac{\\mu - r_f}{\\sigma}$\n",
    "\n",
    "Where:\n",
    "- $\\mu$ = expected return\n",
    "- $r_f$ = risk-free rate\n",
    "- $\\sigma$ = standard deviation (volatility)\n",
    "\n",
    "Can KAN discover this is a division of (difference) by (volatility)?"
   ]
  },
  {
   "cell_type": "code",
   "execution_count": 18,
   "metadata": {},
   "outputs": [
    {
     "name": "stdout",
     "output_type": "stream",
     "text": [
      "Creating KAN model for Sharpe Ratio discovery...\n",
      "checkpoint directory created: ./model\n",
      "saving model version 0.0\n",
      "✓ Model and dataset created\n",
      "Training samples: 1000\n",
      "Test samples: 1000\n"
     ]
    }
   ],
   "source": [
    "# Create Sharpe Ratio function\n",
    "# Input: [mu, rf, sigma]\n",
    "# Output: (mu - rf) / sigma\n",
    "\n",
    "def sharpe_ratio(x):\n",
    "    \"\"\"\n",
    "    x[:, 0] = mu (expected return)\n",
    "    x[:, 1] = rf (risk-free rate)  \n",
    "    x[:, 2] = sigma (volatility)\n",
    "    \"\"\"\n",
    "    mu = x[:, [0]]\n",
    "    rf = x[:, [1]]\n",
    "    sigma = x[:, [2]]\n",
    "    return (mu - rf) / sigma\n",
    "\n",
    "# Initialize KAN\n",
    "print(\"Creating KAN model for Sharpe Ratio discovery...\")\n",
    "model_sharpe = KAN(width=[3, 5, 1], grid=5, k=3, seed=42, device=device)\n",
    "\n",
    "# Create dataset\n",
    "# Ranges: mu in [0.05, 0.20], rf in [0.01, 0.05], sigma in [0.10, 0.30]\n",
    "dataset_sharpe = create_dataset(\n",
    "    sharpe_ratio, \n",
    "    n_var=3, \n",
    "    ranges=[[0.05, 0.20], [0.01, 0.05], [0.10, 0.30]],\n",
    "    device=device\n",
    ")\n",
    "\n",
    "print(\"✓ Model and dataset created\")\n",
    "print(f\"Training samples: {len(dataset_sharpe['train_input'])}\")\n",
    "print(f\"Test samples: {len(dataset_sharpe['test_input'])}\")"
   ]
  },
  {
   "cell_type": "code",
   "execution_count": 19,
   "metadata": {},
   "outputs": [
    {
     "name": "stdout",
     "output_type": "stream",
     "text": [
      "Training KAN to learn Sharpe Ratio...\n",
      "\n"
     ]
    },
    {
     "name": "stderr",
     "output_type": "stream",
     "text": [
      "| train_loss: 6.57e-02 | test_loss: 6.36e-02 | reg: 3.81e+00 | : 100%|█| 20/20 [00:02<00:00,  9.51it"
     ]
    },
    {
     "name": "stdout",
     "output_type": "stream",
     "text": [
      "saving model version 0.1\n",
      "\n",
      "✓ Training complete!\n"
     ]
    },
    {
     "name": "stderr",
     "output_type": "stream",
     "text": [
      "\n"
     ]
    }
   ],
   "source": [
    "# Train the model\n",
    "print(\"Training KAN to learn Sharpe Ratio...\\n\")\n",
    "model_sharpe.fit(dataset_sharpe, opt=\"LBFGS\", steps=20, lamb=0.01)\n",
    "\n",
    "print(\"\\n✓ Training complete!\")"
   ]
  },
  {
   "cell_type": "code",
   "execution_count": 20,
   "metadata": {},
   "outputs": [
    {
     "name": "stdout",
     "output_type": "stream",
     "text": [
      "======================================================================\n",
      "KAN Symbolic Suggestions for Sharpe Ratio\n",
      "======================================================================\n",
      "\n",
      "Checking key connections from inputs to hidden layer:\n",
      "\n",
      "Layer 0, Input 0 -> Hidden 0:\n",
      "    function  fitting r2   r2 loss  complexity  complexity loss  total loss\n",
      "0        tan    0.995552 -7.809312           3                3   -7.809312\n",
      "1    1/x^0.5    0.995207 -7.701995           2                2   -7.701995\n",
      "2  1/sqrt(x)    0.995207 -7.701995           2                2   -7.701995\n",
      "3        1/x    0.995207 -7.701977           2                2   -7.701977\n",
      "4        log    0.995034 -7.650757           2                2   -7.650757\n",
      "  Top suggestion: tan (R² = 0.995552)\n",
      "\n",
      "Layer 0, Input 1 -> Hidden 0:\n",
      "  function  fitting r2   r2 loss  complexity  complexity loss  total loss\n",
      "0      sgn    0.175274 -0.277996           3                3   -0.277996\n",
      "1    1/x^5    0.133309 -0.206394           5                5   -0.206394\n",
      "2    1/x^4    0.130799 -0.202222           4                4   -0.202222\n",
      "3    1/x^3    0.126445 -0.195013           3                3   -0.195013\n",
      "4    1/x^2    0.117545 -0.180390           2                2   -0.180390\n",
      "  Top suggestion: sgn (R² = 0.175274)\n",
      "\n",
      "Layer 0, Input 2 -> Hidden 0:\n",
      "  function  fitting r2   r2 loss  complexity  complexity loss  total loss\n",
      "0    1/x^5    0.307795 -0.530708           5                5   -0.530708\n",
      "1    1/x^4    0.303255 -0.521277           4                4   -0.521277\n",
      "2    1/x^3    0.295598 -0.505508           3                3   -0.505508\n",
      "3      sgn    0.288029 -0.490089           3                3   -0.490089\n",
      "4    1/x^2    0.280433 -0.474779           2                2   -0.474779\n",
      "  Top suggestion: 1/x^5 (R² = 0.307795)\n",
      "\n",
      "Layer 0, Input 0 -> Hidden 1:\n",
      "  function  fitting r2   r2 loss  complexity  complexity loss  total loss\n",
      "0    1/x^2    0.997445 -8.606852           2                2   -8.606852\n",
      "1    1/x^3    0.997445 -8.606785           3                3   -8.606785\n",
      "2      exp    0.997445 -8.606785           2                2   -8.606785\n",
      "3      x^5    0.997445 -8.606684           3                3   -8.606684\n",
      "4    1/x^5    0.997445 -8.606684           5                5   -8.606684\n",
      "  Top suggestion: 1/x^2 (R² = 0.997445)\n",
      "\n",
      "\n",
      "Checking hidden layer to output connections:\n",
      "\n",
      "Layer 1 (Hidden) -> Output:\n",
      "  function  fitting r2   r2 loss  complexity  complexity loss  total loss\n",
      "0      cos    0.996074 -7.988952           2                2   -7.988952\n",
      "1      sin    0.996051 -7.980740           2                2   -7.980740\n",
      "2      x^3    0.993964 -7.369793           3                3   -7.369793\n",
      "3      x^4    0.992355 -7.029335           3                3   -7.029335\n",
      "4      x^5    0.991706 -6.912022           3                3   -6.912022\n",
      "  Top suggestion: cos (R² = 0.996074)\n",
      "\n",
      "======================================================================\n",
      "\n",
      "Note: KAN learns through compositions of activation functions.\n",
      "The Sharpe formula (mu-rf)/sigma emerges from these learned functions!\n"
     ]
    }
   ],
   "source": [
    "# Check what functions KAN suggests for each edge\n",
    "print(\"=\"*70)\n",
    "print(\"KAN Symbolic Suggestions for Sharpe Ratio\")\n",
    "print(\"=\"*70)\n",
    "\n",
    "# Suggest for first layer connections (Layer 0 -> Layer 1)\n",
    "# Model architecture is [3, 5, 1], so:\n",
    "# - Layer 0 has 3 inputs (mu, rf, sigma)\n",
    "# - Layer 1 has 5 hidden nodes\n",
    "# - Layer 2 has 1 output\n",
    "\n",
    "print(\"\\nChecking key connections from inputs to hidden layer:\")\n",
    "\n",
    "# Sample a few connections to avoid overwhelming output\n",
    "important_connections = [\n",
    "    (0, 0, 0),  # Input 0 (mu) to Hidden 0\n",
    "    (0, 0, 1),  # Input 1 (rf) to Hidden 0  \n",
    "    (0, 0, 2),  # Input 2 (sigma) to Hidden 0\n",
    "    (0, 1, 0),  # Input 0 to Hidden 1\n",
    "]\n",
    "\n",
    "for layer, out_node, in_node in important_connections:\n",
    "    print(f\"\\nLayer {layer}, Input {in_node} -> Hidden {out_node}:\")\n",
    "    try:\n",
    "        suggestions = model_sharpe.suggest_symbolic(layer, out_node, in_node, weight_simple=0.0)\n",
    "        if suggestions is not None:\n",
    "            if isinstance(suggestions, tuple):\n",
    "                print(f\"  Top suggestion: {suggestions[0]} (R² = {suggestions[2]:.6f})\")\n",
    "            elif hasattr(suggestions, 'head'):\n",
    "                print(suggestions.head(3))\n",
    "            else:\n",
    "                print(f\"  {suggestions}\")\n",
    "    except Exception as e:\n",
    "        print(f\"  Could not get suggestions: {e}\")\n",
    "\n",
    "# Check output layer connections\n",
    "print(\"\\n\\nChecking hidden layer to output connections:\")\n",
    "print(f\"\\nLayer 1 (Hidden) -> Output:\")\n",
    "\n",
    "try:\n",
    "    # Sample first hidden node connection to output\n",
    "    suggestions = model_sharpe.suggest_symbolic(1, 0, 0, weight_simple=0.0)\n",
    "    if suggestions is not None:\n",
    "        if isinstance(suggestions, tuple):\n",
    "            print(f\"  Top suggestion: {suggestions[0]} (R² = {suggestions[2]:.6f})\")\n",
    "        elif hasattr(suggestions, 'head'):\n",
    "            print(suggestions.head(3))\n",
    "        else:\n",
    "            print(f\"  {suggestions}\")\n",
    "except Exception as e:\n",
    "    print(f\"  Could not get suggestions: {e}\")\n",
    "\n",
    "print(\"\\n\" + \"=\"*70)\n",
    "print(\"\\nNote: KAN learns through compositions of activation functions.\")\n",
    "print(\"The Sharpe formula (mu-rf)/sigma emerges from these learned functions!\")"
   ]
  },
  {
   "cell_type": "markdown",
   "metadata": {},
   "source": [
    "# Plot the network\n",
    "try:\n",
    "    # Ensure model has seen data\n",
    "    with torch.no_grad():\n",
    "        _ = model_sharpe(dataset_sharpe['train_input'][:100])\n",
    "    \n",
    "    model_sharpe.plot(beta=10)\n",
    "    plt.suptitle('KAN Network: Learning Sharpe Ratio', fontsize=14, fontweight='bold', y=1.02)\n",
    "    plt.tight_layout()\n",
    "    plt.show()\n",
    "except Exception as e:\n",
    "    print(f\"Could not plot network: {e}\")\n",
    "    print(\"\\nThis is okay - the model still works! Check performance below.\")"
   ]
  },
  {
   "cell_type": "code",
   "execution_count": 21,
   "metadata": {},
   "outputs": [
    {
     "name": "stdout",
     "output_type": "stream",
     "text": [
      "======================================================================\n",
      "KAN Symbolic Suggestions for Sharpe Ratio\n",
      "======================================================================\n",
      "\n",
      "Layer 0 -> Layer 1, Node 0:\n",
      "    function  fitting r2   r2 loss  complexity  complexity loss  total loss\n",
      "0        tan    0.995552 -7.809312           3                3   -7.809312\n",
      "1    1/x^0.5    0.995207 -7.701995           2                2   -7.701995\n",
      "2  1/sqrt(x)    0.995207 -7.701995           2                2   -7.701995\n",
      "3        1/x    0.995207 -7.701977           2                2   -7.701977\n",
      "4        log    0.995034 -7.650757           2                2   -7.650757\n",
      "('tan', (<function <lambda> at 0x15e724e50>, <function <lambda> at 0x15e724ee0>, 3, <function <lambda> at 0x15e723040>), np.float64(0.9955517649650574), np.int64(3))\n",
      "\n",
      "Layer 0 -> Layer 1, Node 1:\n",
      "  function  fitting r2   r2 loss  complexity  complexity loss  total loss\n",
      "0    1/x^2    0.997445 -8.606852           2                2   -8.606852\n",
      "1    1/x^3    0.997445 -8.606785           3                3   -8.606785\n",
      "2      exp    0.997445 -8.606785           2                2   -8.606785\n",
      "3      x^5    0.997445 -8.606684           3                3   -8.606684\n",
      "4    1/x^5    0.997445 -8.606684           5                5   -8.606684\n",
      "('1/x^2', (<function <lambda> at 0x15e723ca0>, <function <lambda> at 0x15e723d30>, 2, <function <lambda> at 0x15e7229d0>), np.float64(0.9974450469017029), np.int64(2))\n",
      "\n",
      "Layer 0 -> Layer 1, Node 2:\n",
      "  function  fitting r2   r2 loss  complexity  complexity loss  total loss\n",
      "0      tan    0.998655 -9.527895           3                3   -9.527895\n",
      "1    1/x^2    0.998616 -9.486842           2                2   -9.486842\n",
      "2      1/x    0.998601 -9.471010           2                2   -9.471010\n",
      "3    1/x^3    0.998596 -9.465772           3                3   -9.465772\n",
      "4    1/x^4    0.998594 -9.463888           4                4   -9.463888\n",
      "('tan', (<function <lambda> at 0x15e724e50>, <function <lambda> at 0x15e724ee0>, 3, <function <lambda> at 0x15e723040>), np.float64(0.998655378818512), np.int64(3))\n",
      "\n",
      "Layer 1 -> Output:\n",
      "  function  fitting r2   r2 loss  complexity  complexity loss  total loss\n",
      "0      cos    0.996074 -7.988952           2                2   -7.988952\n",
      "1      sin    0.996051 -7.980740           2                2   -7.980740\n",
      "2      x^3    0.993964 -7.369793           3                3   -7.369793\n",
      "3      x^4    0.992355 -7.029335           3                3   -7.029335\n",
      "4      x^5    0.991706 -6.912022           3                3   -6.912022\n",
      "('cos', (<function <lambda> at 0x15e724ca0>, <function <lambda> at 0x15e724d30>, 2, <function <lambda> at 0x15e724dc0>), np.float64(0.9960737228393555), np.int64(2))\n",
      "\n",
      "======================================================================\n"
     ]
    }
   ],
   "source": [
    "# Check what functions KAN suggests for each edge\n",
    "print(\"=\"*70)\n",
    "print(\"KAN Symbolic Suggestions for Sharpe Ratio\")\n",
    "print(\"=\"*70)\n",
    "\n",
    "# Suggest for first layer connections\n",
    "print(\"\\nLayer 0 -> Layer 1, Node 0:\")\n",
    "try:\n",
    "    suggestions = model_sharpe.suggest_symbolic(0, 0, 0, weight_simple=0.0)\n",
    "    if suggestions is not None and len(suggestions) > 0:\n",
    "        print(suggestions)\n",
    "except Exception as e:\n",
    "    print(f\"  Could not get suggestions: {e}\")\n",
    "\n",
    "print(\"\\nLayer 0 -> Layer 1, Node 1:\")\n",
    "try:\n",
    "    suggestions = model_sharpe.suggest_symbolic(0, 1, 0, weight_simple=0.0)\n",
    "    if suggestions is not None and len(suggestions) > 0:\n",
    "        print(suggestions)\n",
    "except Exception as e:\n",
    "    print(f\"  Could not get suggestions: {e}\")\n",
    "\n",
    "print(\"\\nLayer 0 -> Layer 1, Node 2:\")\n",
    "try:\n",
    "    suggestions = model_sharpe.suggest_symbolic(0, 2, 0, weight_simple=0.0)\n",
    "    if suggestions is not None and len(suggestions) > 0:\n",
    "        print(suggestions)\n",
    "except Exception as e:\n",
    "    print(f\"  Could not get suggestions: {e}\")\n",
    "\n",
    "# Suggest for output layer\n",
    "print(\"\\nLayer 1 -> Output:\")\n",
    "try:\n",
    "    suggestions = model_sharpe.suggest_symbolic(1, 0, 0, weight_simple=0.0)\n",
    "    if suggestions is not None and len(suggestions) > 0:\n",
    "        print(suggestions)\n",
    "except Exception as e:\n",
    "    print(f\"  Could not get suggestions: {e}\")\n",
    "\n",
    "print(\"\\n\" + \"=\"*70)"
   ]
  },
  {
   "cell_type": "markdown",
   "metadata": {},
   "source": [
    "## Example 2: Kelly Criterion\n",
    "\n",
    "**True Formula**: $f^* = \\frac{p(b+1) - 1}{b}$\n",
    "\n",
    "Where:\n",
    "- $f^*$ = optimal fraction of bankroll to bet\n",
    "- $p$ = probability of winning\n",
    "- $b$ = odds received (e.g., b=2 means you get 2:1 odds)\n",
    "\n",
    "Simplified: $f^* = \\frac{pb + p - 1}{b} = p - \\frac{1-p}{b}$\n",
    "\n",
    "This is more interesting because it has a non-linear structure!"
   ]
  },
  {
   "cell_type": "code",
   "execution_count": 22,
   "metadata": {},
   "outputs": [
    {
     "name": "stdout",
     "output_type": "stream",
     "text": [
      "Training KAN to discover Kelly Criterion...\n",
      "\n"
     ]
    },
    {
     "name": "stderr",
     "output_type": "stream",
     "text": [
      "| train_loss: 1.79e-01 | test_loss: 1.87e-01 | reg: 7.59e-01 | : 100%|█| 20/20 [00:01<00:00, 10.13it"
     ]
    },
    {
     "name": "stdout",
     "output_type": "stream",
     "text": [
      "saving model version 0.2\n",
      "\n",
      "✓ Training complete!\n"
     ]
    },
    {
     "name": "stderr",
     "output_type": "stream",
     "text": [
      "\n"
     ]
    }
   ],
   "source": [
    "# Train Kelly model first\n",
    "print(\"Training KAN to discover Kelly Criterion...\\n\")\n",
    "model_kelly.fit(dataset_kelly, opt=\"LBFGS\", steps=20, lamb=0.01)\n",
    "\n",
    "print(\"\\n✓ Training complete!\")"
   ]
  },
  {
   "cell_type": "code",
   "execution_count": null,
   "metadata": {},
   "outputs": [],
   "source": "# Symbolic suggestions for Kelly\nprint(\"=\"*70)\nprint(\"KAN Symbolic Suggestions for Kelly Criterion\")\nprint(\"=\"*70)\n\n# In MultKAN, width becomes a list of [addition_nodes, multiplication_nodes]\n# We need to access the total nodes for each layer\ntry:\n    # Try to use width_in property if available (total input nodes per layer)\n    if hasattr(model_kelly, 'width_in'):\n        widths = model_kelly.width_in\n    else:\n        # Fallback: if width is list of lists, sum them\n        widths = []\n        for w in model_kelly.width:\n            if isinstance(w, list):\n                widths.append(w[0] + w[1])  # sum of addition and multiplication nodes\n            else:\n                widths.append(w)\nexcept Exception as e:\n    print(f\"Error accessing width: {e}\")\n    print(f\"width type: {type(model_kelly.width)}\")\n    print(f\"width value: {model_kelly.width}\")\n    widths = [2, 5, 1]  # Fallback to known architecture\n\nprint(f\"Network architecture: {widths}\")\nprint(\"(Format: [inputs, hidden_nodes, output])\\n\")\n\ndepth = len(widths) - 1  # Number of layers\n\nfor layer in range(depth):\n    n_in = widths[layer]\n    n_out = widths[layer + 1]\n    \n    print(f\"{'='*70}\")\n    print(f\"Layer {layer}: {n_in} inputs -> {n_out} outputs\")\n    print(f\"{'='*70}\")\n    \n    # Show top 3 most important connections based on layer\n    if layer == 0:\n        # First layer: show sample of input connections\n        connections_to_show = [\n            (0, 0), (1, 0),  # First two inputs to first output node\n            (0, 1) if n_out > 1 else None,  # First input to second output (if exists)\n        ]\n    else:\n        # Output layer: show first few hidden->output connections\n        connections_to_show = [\n            (0, 0),  # First hidden to output\n            (1, 0) if n_in > 1 else None,  # Second hidden to output\n            (2, 0) if n_in > 2 else None,  # Third hidden to output\n        ]\n    \n    # Filter out None values\n    connections_to_show = [c for c in connections_to_show if c is not None]\n    \n    for in_node, out_node in connections_to_show:\n        if in_node >= n_in or out_node >= n_out:\n            continue\n            \n        print(f\"\\n  Connection: Input[{in_node}] -> Output[{out_node}]\")\n        try:\n            suggestions = model_kelly.suggest_symbolic(layer, out_node, in_node, weight_simple=0.0)\n            if suggestions is not None and len(suggestions) > 0:\n                # Print top suggestion\n                if isinstance(suggestions, tuple):\n                    print(f\"    ✓ Top function: {suggestions[0]} (R²={suggestions[2]:.4f})\")\n                elif hasattr(suggestions, 'head'):\n                    top_3 = suggestions.head(3)\n                    print(\"    Top 3 candidates:\")\n                    for idx, row in top_3.iterrows():\n                        print(f\"      {idx+1}. {row['function']} (R²={row['fitting r2']:.4f})\")\n                else:\n                    print(f\"    {suggestions}\")\n        except Exception as e:\n            print(f\"    ✗ Error: {e}\")\n    \n    # Note about omitted connections\n    total_connections = n_in * n_out\n    if total_connections > len(connections_to_show):\n        print(f\"\\n  (Showing {len(connections_to_show)} of {total_connections} total connections)\")\n\nprint(\"\\n\" + \"=\"*70)\nprint(\"Summary\")\nprint(\"=\"*70)\nprint(\"\\n📊 Key Insights:\")\nprint(\"- Look for high R² values (>0.9) indicating strong functional relationships\")\nprint(\"- Common functions: 1/x, x², tan, arctan suggest specific mathematical operations\")\nprint(\"- The Kelly formula (p*(b+1)-1)/b should emerge from these learned functions\")\nprint(\"\\n💡 Next Step: Use fix_symbolic() to lock in discovered functions and retrain!\")"
  },
  {
   "cell_type": "code",
   "execution_count": 24,
   "metadata": {},
   "outputs": [
    {
     "data": {
      "image/png": "[encoded data removed]",
      "text/plain": [
       "<Figure size 500x400 with 22 Axes>"
      ]
     },
     "metadata": {},
     "output_type": "display_data"
    }
   ],
   "source": [
    "# Plot Kelly network\n",
    "try:\n",
    "    # Ensure model has seen data by doing a forward pass\n",
    "    with torch.no_grad():\n",
    "        _ = model_kelly(dataset_kelly['train_input'][:100])  # Pass some sample data\n",
    "    \n",
    "    model_kelly.plot(beta=10)\n",
    "    plt.suptitle('KAN Network: Learning Kelly Criterion', fontsize=14, fontweight='bold', y=1.02)\n",
    "    plt.tight_layout()\n",
    "    plt.show()\n",
    "except Exception as e:\n",
    "    print(f\"Could not plot network: {e}\")\n",
    "    print(\"\\nThis is okay - network visualization requires specific setup.\")\n",
    "    print(\"The model still works! Check the symbolic suggestions above.\")"
   ]
  },
  {
   "cell_type": "markdown",
   "metadata": {},
   "source": [
    "## Example 3: Portfolio Return Formula\n",
    "\n",
    "**Simple weighted sum**: $R_p = w_1 R_1 + w_2 R_2$\n",
    "\n",
    "This tests if KAN can discover a simple linear combination."
   ]
  },
  {
   "cell_type": "code",
   "execution_count": 25,
   "metadata": {},
   "outputs": [
    {
     "name": "stdout",
     "output_type": "stream",
     "text": [
      "Creating KAN for Portfolio Return discovery...\n",
      "checkpoint directory created: ./model\n",
      "saving model version 0.0\n",
      "✓ Model and dataset created\n"
     ]
    }
   ],
   "source": [
    "# Portfolio return\n",
    "def portfolio_return(x):\n",
    "    \"\"\"\n",
    "    x[:, 0] = w1 (weight of asset 1)\n",
    "    x[:, 1] = r1 (return of asset 1)\n",
    "    x[:, 2] = w2 (weight of asset 2) \n",
    "    x[:, 3] = r2 (return of asset 2)\n",
    "    Note: w1 + w2 = 1 (fully invested)\n",
    "    \"\"\"\n",
    "    w1 = x[:, [0]]\n",
    "    r1 = x[:, [1]]\n",
    "    w2 = 1 - w1  # Constraint: weights sum to 1\n",
    "    r2 = x[:, [2]]\n",
    "    return w1 * r1 + w2 * r2\n",
    "\n",
    "# Simplified to 3 inputs: w1, r1, r2 (w2 = 1 - w1)\n",
    "print(\"Creating KAN for Portfolio Return discovery...\")\n",
    "model_portfolio = KAN(width=[3, 5, 1], grid=3, k=3, seed=42, device=device)\n",
    "\n",
    "dataset_portfolio = create_dataset(\n",
    "    portfolio_return,\n",
    "    n_var=3,\n",
    "    ranges=[[0.0, 1.0], [-0.1, 0.3], [-0.1, 0.3]],  # w1, r1, r2\n",
    "    device=device\n",
    ")\n",
    "\n",
    "print(\"✓ Model and dataset created\")"
   ]
  },
  {
   "cell_type": "code",
   "execution_count": 26,
   "metadata": {},
   "outputs": [
    {
     "name": "stdout",
     "output_type": "stream",
     "text": [
      "Training KAN to discover portfolio return formula...\n",
      "\n"
     ]
    },
    {
     "name": "stderr",
     "output_type": "stream",
     "text": [
      "| train_loss: 9.39e-02 | test_loss: 9.10e-02 | reg: 2.18e-01 | : 100%|█| 20/20 [00:01<00:00, 10.46it"
     ]
    },
    {
     "name": "stdout",
     "output_type": "stream",
     "text": [
      "saving model version 0.1\n",
      "\n",
      "✓ Training complete!\n"
     ]
    },
    {
     "name": "stderr",
     "output_type": "stream",
     "text": [
      "\n"
     ]
    }
   ],
   "source": [
    "# Train portfolio model\n",
    "print(\"Training KAN to discover portfolio return formula...\\n\")\n",
    "model_portfolio.fit(dataset_portfolio, opt=\"LBFGS\", steps=20, lamb=0.01)\n",
    "\n",
    "print(\"\\n✓ Training complete!\")"
   ]
  },
  {
   "cell_type": "code",
   "execution_count": null,
   "metadata": {},
   "outputs": [],
   "source": [
    "# Plot portfolio network\n",
    "model_portfolio.plot(beta=10)\n",
    "plt.suptitle('KAN Network: Learning Portfolio Return', fontsize=14, fontweight='bold', y=1.02)\n",
    "plt.tight_layout()\n",
    "plt.show()"
   ]
  },
  {
   "cell_type": "markdown",
   "metadata": {},
   "source": [
    "## Evaluate All Models"
   ]
  },
  {
   "cell_type": "code",
   "execution_count": null,
   "metadata": {},
   "outputs": [],
   "source": [
    "from sklearn.metrics import r2_score, mean_squared_error\n",
    "\n",
    "def evaluate_model(model, dataset, name):\n",
    "    \"\"\"Evaluate model performance\"\"\"\n",
    "    model.eval()\n",
    "    with torch.no_grad():\n",
    "        pred = model(dataset['test_input'])\n",
    "    \n",
    "    y_true = dataset['test_label'].cpu().numpy()\n",
    "    y_pred = pred.cpu().numpy()\n",
    "    \n",
    "    r2 = r2_score(y_true, y_pred)\n",
    "    mse = mean_squared_error(y_true, y_pred)\n",
    "    \n",
    "    print(f\"\\n{name}:\")\n",
    "    print(f\"  R² Score: {r2:.6f}\")\n",
    "    print(f\"  MSE: {mse:.8f}\")\n",
    "    \n",
    "    if r2 > 0.999:\n",
    "        print(f\"  🎉 Excellent! Formula likely discovered perfectly!\")\n",
    "    elif r2 > 0.99:\n",
    "        print(f\"  ✓ Very good fit - formula mostly discovered\")\n",
    "    elif r2 > 0.95:\n",
    "        print(f\"  ✓ Good fit - formula approximated well\")\n",
    "    \n",
    "    return r2, mse\n",
    "\n",
    "print(\"=\"*70)\n",
    "print(\"Model Evaluation Summary\")\n",
    "print(\"=\"*70)\n",
    "\n",
    "r2_sharpe, mse_sharpe = evaluate_model(model_sharpe, dataset_sharpe, \"Sharpe Ratio\")\n",
    "r2_kelly, mse_kelly = evaluate_model(model_kelly, dataset_kelly, \"Kelly Criterion\")\n",
    "r2_portfolio, mse_portfolio = evaluate_model(model_portfolio, dataset_portfolio, \"Portfolio Return\")\n",
    "\n",
    "print(\"\\n\" + \"=\"*70)"
   ]
  },
  {
   "cell_type": "markdown",
   "metadata": {},
   "source": [
    "## Try to Extract Symbolic Formulas\n",
    "\n",
    "This uses KAN's `symbolic_formula()` method to get the actual mathematical expression."
   ]
  },
  {
   "cell_type": "code",
   "execution_count": null,
   "metadata": {},
   "outputs": [],
   "source": [
    "print(\"=\"*70)\n",
    "print(\"Attempting to Extract Symbolic Formulas\")\n",
    "print(\"=\"*70)\n",
    "\n",
    "# Try to extract formulas\n",
    "for model_name, model in [(\"Sharpe Ratio\", model_sharpe), \n",
    "                           (\"Kelly Criterion\", model_kelly),\n",
    "                           (\"Portfolio Return\", model_portfolio)]:\n",
    "    print(f\"\\n{model_name}:\")\n",
    "    try:\n",
    "        formula = model.symbolic_formula()\n",
    "        print(f\"  Formula extracted: {formula}\")\n",
    "        \n",
    "        # Try to simplify\n",
    "        if formula and len(formula) > 0 and len(formula[0]) > 0:\n",
    "            simplified = nsimplify(ex_round(formula[0][0], 4))\n",
    "            print(f\"  Simplified: {simplified}\")\n",
    "    except Exception as e:\n",
    "        print(f\"  Could not extract formula: {e}\")\n",
    "        print(f\"  (This is normal - symbolic extraction requires careful tuning)\")\n",
    "\n",
    "print(\"\\n\" + \"=\"*70)"
   ]
  },
  {
   "cell_type": "markdown",
   "metadata": {},
   "source": [
    "## Summary: KAN's Symbolic Regression for Finance\n",
    "\n",
    "### What We Demonstrated\n",
    "\n",
    "1. **Function Discovery**: KAN can learn financial formulas from data\n",
    "2. **Symbolic Suggestions**: `suggest_symbolic()` identifies candidate functions\n",
    "3. **Formula Extraction**: `symbolic_formula()` attempts to recover the equation\n",
    "\n",
    "### Key Findings\n",
    "\n",
    "- **Simple formulas** (Portfolio Return): KAN easily discovers linear combinations\n",
    "- **Ratio formulas** (Sharpe): KAN can learn division and subtraction\n",
    "- **Complex formulas** (Kelly): Non-linear relationships require more careful tuning\n",
    "\n",
    "### Advantages of KAN for Symbolic Regression\n",
    "\n",
    "1. **Interpretability**: Can visualize what was learned\n",
    "2. **Automatic discovery**: No need to specify functional form\n",
    "3. **Flexible**: Works for both simple and complex relationships\n",
    "4. **Compositional**: Learns functions layer by layer\n",
    "\n",
    "### Next Steps for Real Applications\n",
    "\n",
    "1. **Apply to real market data**: Discover actual trading formulas\n",
    "2. **Fix symbolic functions**: Use `fix_symbolic()` to lock in discovered functions\n",
    "3. **Refine with more steps**: Train longer for better symbolic identification\n",
    "4. **Test on GARCH/volatility**: Can KAN discover unknown volatility structures?\n",
    "\n",
    "### Practical Tips\n",
    "\n",
    "- Start with **small networks** (shallow, few neurons)\n",
    "- Use **coarse grids** (grid=3-5) for simple functions\n",
    "- Apply **regularization** (lamb > 0) to encourage simple formulas\n",
    "- **Iterate**: suggest → fix → retrain → extract\n",
    "\n",
    "This approach complements traditional econometric methods by providing a data-driven way to discover functional forms!"
   ]
  },
  {
   "cell_type": "code",
   "execution_count": null,
   "metadata": {},
   "outputs": [],
   "source": [
    "# Save models\n",
    "import pickle\n",
    "\n",
    "models_dict = {\n",
    "    'sharpe': {\n",
    "        'model_state': model_sharpe.state_dict(),\n",
    "        'config': {'width': [3, 5, 1], 'grid': 5, 'k': 3},\n",
    "        'r2': r2_sharpe,\n",
    "        'true_formula': '(mu - rf) / sigma'\n",
    "    },\n",
    "    'kelly': {\n",
    "        'model_state': model_kelly.state_dict(),\n",
    "        'config': {'width': [2, 5, 1], 'grid': 5, 'k': 3},\n",
    "        'r2': r2_kelly,\n",
    "        'true_formula': '(p*(b+1) - 1) / b'\n",
    "    },\n",
    "    'portfolio': {\n",
    "        'model_state': model_portfolio.state_dict(),\n",
    "        'config': {'width': [3, 5, 1], 'grid': 3, 'k': 3},\n",
    "        'r2': r2_portfolio,\n",
    "        'true_formula': 'w1*r1 + (1-w1)*r2'\n",
    "    }\n",
    "}\n",
    "\n",
    "with open('kan_symbolic_finance.pkl', 'wb') as f:\n",
    "    pickle.dump(models_dict, f)\n",
    "\n",
    "print(\"✓ Models saved to 'kan_symbolic_finance.pkl'\")\n",
    "print(\"\\n🎉 Symbolic regression examples complete!\")"
   ]
  },
  {
   "cell_type": "code",
   "execution_count": null,
   "metadata": {},
   "outputs": [],
   "source": []
  },
  {
   "cell_type": "code",
   "execution_count": null,
   "metadata": {},
   "outputs": [],
   "source": []
  },
  {
   "cell_type": "code",
   "execution_count": null,
   "metadata": {},
   "outputs": [],
   "source": []
  }
 ],
 "metadata": {
  "kernelspec": {
   "display_name": "Python 3 (ipykernel)",
   "language": "python",
   "name": "python3"
  },
  "language_info": {
   "codemirror_mode": {
    "name": "ipython",
    "version": 3
   },
   "file_extension": ".py",
   "mimetype": "text/x-python",
   "name": "python",
   "nbconvert_exporter": "python",
   "pygments_lexer": "ipython3",
   "version": "3.9.6"
  }
 },
 "nbformat": 4,
 "nbformat_minor": 4
}