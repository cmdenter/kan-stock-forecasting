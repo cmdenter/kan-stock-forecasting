{
 "cells": [
  {
   "cell_type": "markdown",
   "metadata": {},
   "source": [
    "# KAN Symbolic Regression for Financial Formulas\n",
    "\n",
    "## Inspired by KAN's Relativistic Velocity Example\n",
    "\n",
    "This notebook demonstrates KAN's **symbolic regression** capabilities - discovering mathematical formulas from data.\n",
    "\n",
    "## Approach\n",
    "\n",
    "1. **Generate data** from a known financial formula\n",
    "2. **Train KAN** to fit the data\n",
    "3. **Use `suggest_symbolic()`** to identify functions\n",
    "4. **Fix symbolic functions** and retrain\n",
    "5. **Extract formula** using `symbolic_formula()`\n",
    "\n",
    "## Examples We'll Try\n",
    "\n",
    "1. **Sharpe Ratio**: $\\frac{\\mu - r_f}{\\sigma}$\n",
    "2. **Sortino Ratio**: $\\frac{\\mu - r_f}{\\sigma_{downside}}$\n",
    "3. **Kelly Criterion**: $f^* = \\frac{p(b+1) - 1}{b}$\n",
    "4. **Black-Scholes Greeks**: Various formulas involving $\\Phi$ (normal CDF)"
   ]
  },
  {
   "cell_type": "code",
   "execution_count": null,
   "metadata": {},
   "outputs": [],
   "source": [
    "# Install required packages\n",
    "!pip install pykan torch numpy pandas matplotlib sympy tqdm -q"
   ]
  },
  {
   "cell_type": "code",
   "execution_count": 1,
   "metadata": {},
   "outputs": [
    {
     "name": "stdout",
     "output_type": "stream",
     "text": [
      "Device: cpu\n",
      "Libraries imported successfully!\n"
     ]
    }
   ],
   "source": [
    "import torch\n",
    "import numpy as np\n",
    "import matplotlib.pyplot as plt\n",
    "from sympy import *\n",
    "import warnings\n",
    "warnings.filterwarnings('ignore')\n",
    "\n",
    "from kan import KAN, create_dataset\n",
    "from kan.utils import ex_round\n",
    "\n",
    "device = torch.device('cuda' if torch.cuda.is_available() else 'cpu')\n",
    "print(f\"Device: {device}\")\n",
    "\n",
    "# Set random seeds\n",
    "torch.manual_seed(42)\n",
    "np.random.seed(42)\n",
    "\n",
    "print(\"Libraries imported successfully!\")"
   ]
  },
  {
   "cell_type": "markdown",
   "metadata": {},
   "source": [
    "## Example 1: Discover the Sharpe Ratio Formula\n",
    "\n",
    "**True Formula**: $\\text{Sharpe} = \\frac{\\mu - r_f}{\\sigma}$\n",
    "\n",
    "Where:\n",
    "- $\\mu$ = expected return\n",
    "- $r_f$ = risk-free rate\n",
    "- $\\sigma$ = standard deviation (volatility)\n",
    "\n",
    "Can KAN discover this is a division of (difference) by (volatility)?"
   ]
  },
  {
   "cell_type": "code",
   "execution_count": 2,
   "metadata": {},
   "outputs": [
    {
     "name": "stdout",
     "output_type": "stream",
     "text": [
      "Creating KAN model for Sharpe Ratio discovery...\n",
      "checkpoint directory created: ./model\n",
      "saving model version 0.0\n",
      "✓ Model and dataset created\n",
      "Training samples: 1000\n",
      "Test samples: 1000\n"
     ]
    }
   ],
   "source": [
    "# Create Sharpe Ratio function\n",
    "# Input: [mu, rf, sigma]\n",
    "# Output: (mu - rf) / sigma\n",
    "\n",
    "def sharpe_ratio(x):\n",
    "    \"\"\"\n",
    "    x[:, 0] = mu (expected return)\n",
    "    x[:, 1] = rf (risk-free rate)  \n",
    "    x[:, 2] = sigma (volatility)\n",
    "    \"\"\"\n",
    "    mu = x[:, [0]]\n",
    "    rf = x[:, [1]]\n",
    "    sigma = x[:, [2]]\n",
    "    return (mu - rf) / sigma\n",
    "\n",
    "# Initialize KAN\n",
    "print(\"Creating KAN model for Sharpe Ratio discovery...\")\n",
    "model_sharpe = KAN(width=[3, 5, 1], grid=5, k=3, seed=42, device=device)\n",
    "\n",
    "# Create dataset\n",
    "# Ranges: mu in [0.05, 0.20], rf in [0.01, 0.05], sigma in [0.10, 0.30]\n",
    "dataset_sharpe = create_dataset(\n",
    "    sharpe_ratio, \n",
    "    n_var=3, \n",
    "    ranges=[[0.05, 0.20], [0.01, 0.05], [0.10, 0.30]],\n",
    "    device=device\n",
    ")\n",
    "\n",
    "print(\"✓ Model and dataset created\")\n",
    "print(f\"Training samples: {len(dataset_sharpe['train_input'])}\")\n",
    "print(f\"Test samples: {len(dataset_sharpe['test_input'])}\")"
   ]
  },
  {
   "cell_type": "code",
   "execution_count": 3,
   "metadata": {},
   "outputs": [
    {
     "name": "stdout",
     "output_type": "stream",
     "text": [
      "Training KAN to learn Sharpe Ratio...\n",
      "\n"
     ]
    },
    {
     "name": "stderr",
     "output_type": "stream",
     "text": [
      "| train_loss: 6.57e-02 | test_loss: 6.36e-02 | reg: 3.81e+00 | : 100%|█| 20/20 [00:02<00:00,  8.56it"
     ]
    },
    {
     "name": "stdout",
     "output_type": "stream",
     "text": [
      "saving model version 0.1\n",
      "\n",
      "✓ Training complete!\n"
     ]
    },
    {
     "name": "stderr",
     "output_type": "stream",
     "text": [
      "\n"
     ]
    }
   ],
   "source": [
    "# Train the model\n",
    "print(\"Training KAN to learn Sharpe Ratio...\\n\")\n",
    "model_sharpe.fit(dataset_sharpe, opt=\"LBFGS\", steps=20, lamb=0.01)\n",
    "\n",
    "print(\"\\n✓ Training complete!\")"
   ]
  },
  {
   "cell_type": "code",
   "execution_count": null,
   "metadata": {},
   "outputs": [],
   "source": "# Check what functions KAN suggests for each edge\nprint(\"=\"*70)\nprint(\"KAN Symbolic Suggestions for Sharpe Ratio\")\nprint(\"=\"*70)\n\n# Suggest for first layer connections (Layer 0 -> Layer 1)\n# Model architecture is [3, 5, 1], so:\n# - Layer 0 has 3 inputs (mu, rf, sigma)\n# - Layer 1 has 5 hidden nodes\n# - Layer 2 has 1 output\n\nprint(\"\\nChecking key connections from inputs to hidden layer:\")\n\n# Sample a few connections to avoid overwhelming output\nimportant_connections = [\n    (0, 0, 0),  # Input 0 (mu) to Hidden 0\n    (0, 0, 1),  # Input 1 (rf) to Hidden 0  \n    (0, 0, 2),  # Input 2 (sigma) to Hidden 0\n    (0, 1, 0),  # Input 0 to Hidden 1\n]\n\nfor layer, out_node, in_node in important_connections:\n    print(f\"\\nLayer {layer}, Input {in_node} -> Hidden {out_node}:\")\n    try:\n        suggestions = model_sharpe.suggest_symbolic(layer, out_node, in_node, weight_simple=0.0)\n        if suggestions is not None:\n            if isinstance(suggestions, tuple):\n                print(f\"  Top suggestion: {suggestions[0]} (R² = {suggestions[2]:.6f})\")\n            elif hasattr(suggestions, 'head'):\n                print(suggestions.head(3))\n            else:\n                print(f\"  {suggestions}\")\n    except Exception as e:\n        print(f\"  Could not get suggestions: {e}\")\n\n# Check output layer connections\nprint(\"\\n\\nChecking hidden layer to output connections:\")\nprint(f\"\\nLayer 1 (Hidden) -> Output:\")\n\ntry:\n    # Sample first hidden node connection to output\n    suggestions = model_sharpe.suggest_symbolic(1, 0, 0, weight_simple=0.0)\n    if suggestions is not None:\n        if isinstance(suggestions, tuple):\n            print(f\"  Top suggestion: {suggestions[0]} (R² = {suggestions[2]:.6f})\")\n        elif hasattr(suggestions, 'head'):\n            print(suggestions.head(3))\n        else:\n            print(f\"  {suggestions}\")\nexcept Exception as e:\n    print(f\"  Could not get suggestions: {e}\")\n\nprint(\"\\n\" + \"=\"*70)\nprint(\"\\nNote: KAN learns through compositions of activation functions.\")\nprint(\"The Sharpe formula (mu-rf)/sigma emerges from these learned functions!\")"
  },
  {
   "cell_type": "markdown",
   "metadata": {},
   "source": [
    "## Symbolic Regression: Discover Functions\n",
    "\n",
    "Now we'll use KAN's `suggest_symbolic()` to identify which mathematical functions the network learned."
   ]
  },
  {
   "cell_type": "code",
   "execution_count": 6,
   "metadata": {},
   "outputs": [
    {
     "name": "stdout",
     "output_type": "stream",
     "text": [
      "======================================================================\n",
      "KAN Symbolic Suggestions for Sharpe Ratio\n",
      "======================================================================\n",
      "\n",
      "Layer 0 -> Layer 1, Node 0:\n",
      "    function  fitting r2   r2 loss  complexity  complexity loss  total loss\n",
      "0        tan    0.995552 -7.809312           3                3   -7.809312\n",
      "1    1/x^0.5    0.995207 -7.701995           2                2   -7.701995\n",
      "2  1/sqrt(x)    0.995207 -7.701995           2                2   -7.701995\n",
      "3        1/x    0.995207 -7.701977           2                2   -7.701977\n",
      "4        log    0.995034 -7.650757           2                2   -7.650757\n",
      "('tan', (<function <lambda> at 0x1595bf940>, <function <lambda> at 0x1595bf9d0>, 3, <function <lambda> at 0x1595bdaf0>), np.float64(0.9955517649650574), np.int64(3))\n",
      "\n",
      "Layer 0 -> Layer 1, Node 1:\n",
      "  function  fitting r2   r2 loss  complexity  complexity loss  total loss\n",
      "0    1/x^2    0.997445 -8.606852           2                2   -8.606852\n",
      "1    1/x^3    0.997445 -8.606785           3                3   -8.606785\n",
      "2      exp    0.997445 -8.606785           2                2   -8.606785\n",
      "3      x^5    0.997445 -8.606684           3                3   -8.606684\n",
      "4    1/x^5    0.997445 -8.606684           5                5   -8.606684\n",
      "('1/x^2', (<function <lambda> at 0x1595be790>, <function <lambda> at 0x1595be820>, 2, <function <lambda> at 0x1595bd4c0>), np.float64(0.9974450469017029), np.int64(2))\n",
      "\n",
      "Layer 0 -> Layer 1, Node 2:\n",
      "  function  fitting r2   r2 loss  complexity  complexity loss  total loss\n",
      "0      tan    0.998655 -9.527895           3                3   -9.527895\n",
      "1    1/x^2    0.998616 -9.486842           2                2   -9.486842\n",
      "2      1/x    0.998601 -9.471010           2                2   -9.471010\n",
      "3    1/x^3    0.998596 -9.465772           3                3   -9.465772\n",
      "4    1/x^4    0.998594 -9.463888           4                4   -9.463888\n",
      "('tan', (<function <lambda> at 0x1595bf940>, <function <lambda> at 0x1595bf9d0>, 3, <function <lambda> at 0x1595bdaf0>), np.float64(0.998655378818512), np.int64(3))\n",
      "\n",
      "Layer 1 -> Output:\n",
      "  function  fitting r2   r2 loss  complexity  complexity loss  total loss\n",
      "0      cos    0.996074 -7.988952           2                2   -7.988952\n",
      "1      sin    0.996051 -7.980740           2                2   -7.980740\n",
      "2      x^3    0.993964 -7.369793           3                3   -7.369793\n",
      "3      x^4    0.992355 -7.029335           3                3   -7.029335\n",
      "4      x^5    0.991706 -6.912022           3                3   -6.912022\n",
      "('cos', (<function <lambda> at 0x1595bf790>, <function <lambda> at 0x1595bf820>, 2, <function <lambda> at 0x1595bf8b0>), np.float64(0.9960737228393555), np.int64(2))\n",
      "\n",
      "======================================================================\n"
     ]
    }
   ],
   "source": [
    "# Check what functions KAN suggests for each edge\n",
    "print(\"=\"*70)\n",
    "print(\"KAN Symbolic Suggestions for Sharpe Ratio\")\n",
    "print(\"=\"*70)\n",
    "\n",
    "# Suggest for first layer connections\n",
    "print(\"\\nLayer 0 -> Layer 1, Node 0:\")\n",
    "try:\n",
    "    suggestions = model_sharpe.suggest_symbolic(0, 0, 0, weight_simple=0.0)\n",
    "    if suggestions is not None and len(suggestions) > 0:\n",
    "        print(suggestions)\n",
    "except Exception as e:\n",
    "    print(f\"  Could not get suggestions: {e}\")\n",
    "\n",
    "print(\"\\nLayer 0 -> Layer 1, Node 1:\")\n",
    "try:\n",
    "    suggestions = model_sharpe.suggest_symbolic(0, 1, 0, weight_simple=0.0)\n",
    "    if suggestions is not None and len(suggestions) > 0:\n",
    "        print(suggestions)\n",
    "except Exception as e:\n",
    "    print(f\"  Could not get suggestions: {e}\")\n",
    "\n",
    "print(\"\\nLayer 0 -> Layer 1, Node 2:\")\n",
    "try:\n",
    "    suggestions = model_sharpe.suggest_symbolic(0, 2, 0, weight_simple=0.0)\n",
    "    if suggestions is not None and len(suggestions) > 0:\n",
    "        print(suggestions)\n",
    "except Exception as e:\n",
    "    print(f\"  Could not get suggestions: {e}\")\n",
    "\n",
    "# Suggest for output layer\n",
    "print(\"\\nLayer 1 -> Output:\")\n",
    "try:\n",
    "    suggestions = model_sharpe.suggest_symbolic(1, 0, 0, weight_simple=0.0)\n",
    "    if suggestions is not None and len(suggestions) > 0:\n",
    "        print(suggestions)\n",
    "except Exception as e:\n",
    "    print(f\"  Could not get suggestions: {e}\")\n",
    "\n",
    "print(\"\\n\" + \"=\"*70)"
   ]
  },
  {
   "cell_type": "markdown",
   "metadata": {},
   "source": [
    "## Example 2: Kelly Criterion\n",
    "\n",
    "**True Formula**: $f^* = \\frac{p(b+1) - 1}{b}$\n",
    "\n",
    "Where:\n",
    "- $f^*$ = optimal fraction of bankroll to bet\n",
    "- $p$ = probability of winning\n",
    "- $b$ = odds received (e.g., b=2 means you get 2:1 odds)\n",
    "\n",
    "Simplified: $f^* = \\frac{pb + p - 1}{b} = p - \\frac{1-p}{b}$\n",
    "\n",
    "This is more interesting because it has a non-linear structure!"
   ]
  },
  {
   "cell_type": "code",
   "execution_count": 8,
   "metadata": {},
   "outputs": [
    {
     "name": "stdout",
     "output_type": "stream",
     "text": [
      "Creating KAN model for Kelly Criterion discovery...\n",
      "checkpoint directory created: ./model\n",
      "saving model version 0.0\n",
      "✓ Model and dataset created\n"
     ]
    }
   ],
   "source": [
    "# Kelly Criterion function\n",
    "def kelly_criterion(x):\n",
    "    \"\"\"\n",
    "    x[:, 0] = p (probability of winning)\n",
    "    x[:, 1] = b (odds, e.g. 2 for 2:1 odds)\n",
    "    \"\"\"\n",
    "    p = x[:, [0]]\n",
    "    b = x[:, [1]]\n",
    "    return (p * (b + 1) - 1) / b\n",
    "\n",
    "# Initialize KAN  \n",
    "print(\"Creating KAN model for Kelly Criterion discovery...\")\n",
    "model_kelly = KAN(width=[2, 5, 1], grid=5, k=3, seed=42, device=device)\n",
    "\n",
    "# Create dataset\n",
    "# p in [0.4, 0.8] (need edge to have positive Kelly)\n",
    "# b in [1, 5] (odds from 1:1 to 5:1)\n",
    "dataset_kelly = create_dataset(\n",
    "    kelly_criterion,\n",
    "    n_var=2,\n",
    "    ranges=[[0.4, 0.8], [1.0, 5.0]],\n",
    "    device=device\n",
    ")\n",
    "\n",
    "print(\"✓ Model and dataset created\")"
   ]
  },
  {
   "cell_type": "code",
   "execution_count": null,
   "metadata": {},
   "outputs": [],
   "source": "# Symbolic suggestions for Kelly\nprint(\"=\"*70)\nprint(\"KAN Symbolic Suggestions for Kelly Criterion\")\nprint(\"=\"*70)\n\n# Get model depth and width\ndepth = len(model_kelly.width) - 1  # Number of layers\n\nfor layer in range(depth):\n    n_in = model_kelly.width[layer]\n    n_out = model_kelly.width[layer + 1]\n    \n    for out_node in range(n_out):\n        for in_node in range(n_in):\n            print(f\"\\nLayer {layer}, Input {in_node} -> Output {out_node}:\")\n            try:\n                suggestions = model_kelly.suggest_symbolic(layer, out_node, in_node, weight_simple=0.0)\n                if suggestions is not None and len(suggestions) > 0:\n                    # Print top 3 suggestions\n                    if isinstance(suggestions, tuple):\n                        print(f\"  Top suggestion: {suggestions[0]}\")\n                    elif hasattr(suggestions, 'head'):\n                        print(suggestions.head(3))\n                    else:\n                        print(f\"  {suggestions}\")\n            except Exception as e:\n                print(f\"  Could not get suggestions: {e}\")\n\nprint(\"\\n\" + \"=\"*70)"
  },
  {
   "cell_type": "code",
   "execution_count": 10,
   "metadata": {},
   "outputs": [
    {
     "data": {
      "image/png": "[encoded data removed]",
      "text/plain": [
       "<Figure size 500x400 with 22 Axes>"
      ]
     },
     "metadata": {},
     "output_type": "display_data"
    }
   ],
   "source": [
    "# Plot Kelly network\n",
    "model_kelly.plot(beta=10)\n",
    "plt.suptitle('KAN Network: Learning Kelly Criterion', fontsize=14, fontweight='bold', y=1.02)\n",
    "plt.tight_layout()\n",
    "plt.show()"
   ]
  },
  {
   "cell_type": "code",
   "execution_count": 11,
   "metadata": {},
   "outputs": [
    {
     "name": "stdout",
     "output_type": "stream",
     "text": [
      "======================================================================\n",
      "KAN Symbolic Suggestions for Kelly Criterion\n",
      "======================================================================\n"
     ]
    },
    {
     "ename": "TypeError",
     "evalue": "'list' object cannot be interpreted as an integer",
     "output_type": "error",
     "traceback": [
      "\u001b[0;31m---------------------------------------------------------------------------\u001b[0m",
      "\u001b[0;31mTypeError\u001b[0m                                 Traceback (most recent call last)",
      "Cell \u001b[0;32mIn[11], line 7\u001b[0m\n\u001b[1;32m      4\u001b[0m \u001b[38;5;28mprint\u001b[39m(\u001b[38;5;124m\"\u001b[39m\u001b[38;5;124m=\u001b[39m\u001b[38;5;124m\"\u001b[39m\u001b[38;5;241m*\u001b[39m\u001b[38;5;241m70\u001b[39m)\n\u001b[1;32m      6\u001b[0m \u001b[38;5;28;01mfor\u001b[39;00m layer \u001b[38;5;129;01min\u001b[39;00m \u001b[38;5;28mrange\u001b[39m(model_kelly\u001b[38;5;241m.\u001b[39mdepth \u001b[38;5;241m-\u001b[39m \u001b[38;5;241m1\u001b[39m):\n\u001b[0;32m----> 7\u001b[0m     \u001b[38;5;28;01mfor\u001b[39;00m out_node \u001b[38;5;129;01min\u001b[39;00m \u001b[38;5;28;43mrange\u001b[39;49m\u001b[43m(\u001b[49m\u001b[43mmodel_kelly\u001b[49m\u001b[38;5;241;43m.\u001b[39;49m\u001b[43mwidth\u001b[49m\u001b[43m[\u001b[49m\u001b[43mlayer\u001b[49m\u001b[43m \u001b[49m\u001b[38;5;241;43m+\u001b[39;49m\u001b[43m \u001b[49m\u001b[38;5;241;43m1\u001b[39;49m\u001b[43m]\u001b[49m\u001b[43m)\u001b[49m:\n\u001b[1;32m      8\u001b[0m         \u001b[38;5;28;01mfor\u001b[39;00m in_node \u001b[38;5;129;01min\u001b[39;00m \u001b[38;5;28mrange\u001b[39m(model_kelly\u001b[38;5;241m.\u001b[39mwidth[layer]):\n\u001b[1;32m      9\u001b[0m             \u001b[38;5;28mprint\u001b[39m(\u001b[38;5;124mf\u001b[39m\u001b[38;5;124m\"\u001b[39m\u001b[38;5;130;01m\\n\u001b[39;00m\u001b[38;5;124mLayer \u001b[39m\u001b[38;5;132;01m{\u001b[39;00mlayer\u001b[38;5;132;01m}\u001b[39;00m\u001b[38;5;124m, Input \u001b[39m\u001b[38;5;132;01m{\u001b[39;00min_node\u001b[38;5;132;01m}\u001b[39;00m\u001b[38;5;124m -> Output \u001b[39m\u001b[38;5;132;01m{\u001b[39;00mout_node\u001b[38;5;132;01m}\u001b[39;00m\u001b[38;5;124m:\u001b[39m\u001b[38;5;124m\"\u001b[39m)\n",
      "\u001b[0;31mTypeError\u001b[0m: 'list' object cannot be interpreted as an integer"
     ]
    }
   ],
   "source": [
    "# Symbolic suggestions for Kelly\n",
    "print(\"=\"*70)\n",
    "print(\"KAN Symbolic Suggestions for Kelly Criterion\")\n",
    "print(\"=\"*70)\n",
    "\n",
    "for layer in range(model_kelly.depth - 1):\n",
    "    for out_node in range(model_kelly.width[layer + 1]):\n",
    "        for in_node in range(model_kelly.width[layer]):\n",
    "            print(f\"\\nLayer {layer}, Input {in_node} -> Output {out_node}:\")\n",
    "            try:\n",
    "                suggestions = model_kelly.suggest_symbolic(layer, out_node, in_node, weight_simple=0.0)\n",
    "                if suggestions is not None and len(suggestions) > 0:\n",
    "                    # Print top 3 suggestions\n",
    "                    if isinstance(suggestions, tuple):\n",
    "                        print(f\"  Top suggestion: {suggestions[0]}\")\n",
    "                    else:\n",
    "                        print(suggestions.head(3))\n",
    "            except Exception as e:\n",
    "                print(f\"  Could not get suggestions: {e}\")\n",
    "\n",
    "print(\"\\n\" + \"=\"*70)"
   ]
  },
  {
   "cell_type": "markdown",
   "metadata": {},
   "source": [
    "## Example 3: Portfolio Return Formula\n",
    "\n",
    "**Simple weighted sum**: $R_p = w_1 R_1 + w_2 R_2$\n",
    "\n",
    "This tests if KAN can discover a simple linear combination."
   ]
  },
  {
   "cell_type": "code",
   "execution_count": 12,
   "metadata": {},
   "outputs": [
    {
     "name": "stdout",
     "output_type": "stream",
     "text": [
      "Creating KAN for Portfolio Return discovery...\n",
      "checkpoint directory created: ./model\n",
      "saving model version 0.0\n",
      "✓ Model and dataset created\n"
     ]
    }
   ],
   "source": [
    "# Portfolio return\n",
    "def portfolio_return(x):\n",
    "    \"\"\"\n",
    "    x[:, 0] = w1 (weight of asset 1)\n",
    "    x[:, 1] = r1 (return of asset 1)\n",
    "    x[:, 2] = w2 (weight of asset 2) \n",
    "    x[:, 3] = r2 (return of asset 2)\n",
    "    Note: w1 + w2 = 1 (fully invested)\n",
    "    \"\"\"\n",
    "    w1 = x[:, [0]]\n",
    "    r1 = x[:, [1]]\n",
    "    w2 = 1 - w1  # Constraint: weights sum to 1\n",
    "    r2 = x[:, [2]]\n",
    "    return w1 * r1 + w2 * r2\n",
    "\n",
    "# Simplified to 3 inputs: w1, r1, r2 (w2 = 1 - w1)\n",
    "print(\"Creating KAN for Portfolio Return discovery...\")\n",
    "model_portfolio = KAN(width=[3, 5, 1], grid=3, k=3, seed=42, device=device)\n",
    "\n",
    "dataset_portfolio = create_dataset(\n",
    "    portfolio_return,\n",
    "    n_var=3,\n",
    "    ranges=[[0.0, 1.0], [-0.1, 0.3], [-0.1, 0.3]],  # w1, r1, r2\n",
    "    device=device\n",
    ")\n",
    "\n",
    "print(\"✓ Model and dataset created\")"
   ]
  },
  {
   "cell_type": "code",
   "execution_count": 13,
   "metadata": {},
   "outputs": [
    {
     "name": "stdout",
     "output_type": "stream",
     "text": [
      "Training KAN to discover portfolio return formula...\n",
      "\n"
     ]
    },
    {
     "name": "stderr",
     "output_type": "stream",
     "text": [
      "| train_loss: 9.39e-02 | test_loss: 9.10e-02 | reg: 2.18e-01 | : 100%|█| 20/20 [00:01<00:00, 10.60it"
     ]
    },
    {
     "name": "stdout",
     "output_type": "stream",
     "text": [
      "saving model version 0.1\n",
      "\n",
      "✓ Training complete!\n"
     ]
    },
    {
     "name": "stderr",
     "output_type": "stream",
     "text": [
      "\n"
     ]
    }
   ],
   "source": [
    "# Train portfolio model\n",
    "print(\"Training KAN to discover portfolio return formula...\\n\")\n",
    "model_portfolio.fit(dataset_portfolio, opt=\"LBFGS\", steps=20, lamb=0.01)\n",
    "\n",
    "print(\"\\n✓ Training complete!\")"
   ]
  },
  {
   "cell_type": "code",
   "execution_count": 14,
   "metadata": {},
   "outputs": [
    {
     "data": {
      "image/png": "[encoded data removed]",
      "text/plain": [
       "<Figure size 500x400 with 27 Axes>"
      ]
     },
     "metadata": {},
     "output_type": "display_data"
    }
   ],
   "source": [
    "# Plot portfolio network\n",
    "model_portfolio.plot(beta=10)\n",
    "plt.suptitle('KAN Network: Learning Portfolio Return', fontsize=14, fontweight='bold', y=1.02)\n",
    "plt.tight_layout()\n",
    "plt.show()"
   ]
  },
  {
   "cell_type": "markdown",
   "metadata": {},
   "source": [
    "## Evaluate All Models"
   ]
  },
  {
   "cell_type": "code",
   "execution_count": 15,
   "metadata": {},
   "outputs": [
    {
     "name": "stdout",
     "output_type": "stream",
     "text": [
      "======================================================================\n",
      "Model Evaluation Summary\n",
      "======================================================================\n",
      "\n",
      "Sharpe Ratio:\n",
      "  R² Score: 0.957271\n",
      "  MSE: 0.00405095\n",
      "  ✓ Good fit - formula approximated well\n",
      "\n",
      "Kelly Criterion:\n",
      "  R² Score: 0.002007\n",
      "  MSE: 0.03485748\n",
      "\n",
      "Portfolio Return:\n",
      "  R² Score: -0.002207\n",
      "  MSE: 0.00827924\n",
      "\n",
      "======================================================================\n"
     ]
    }
   ],
   "source": [
    "from sklearn.metrics import r2_score, mean_squared_error\n",
    "\n",
    "def evaluate_model(model, dataset, name):\n",
    "    \"\"\"Evaluate model performance\"\"\"\n",
    "    model.eval()\n",
    "    with torch.no_grad():\n",
    "        pred = model(dataset['test_input'])\n",
    "    \n",
    "    y_true = dataset['test_label'].cpu().numpy()\n",
    "    y_pred = pred.cpu().numpy()\n",
    "    \n",
    "    r2 = r2_score(y_true, y_pred)\n",
    "    mse = mean_squared_error(y_true, y_pred)\n",
    "    \n",
    "    print(f\"\\n{name}:\")\n",
    "    print(f\"  R² Score: {r2:.6f}\")\n",
    "    print(f\"  MSE: {mse:.8f}\")\n",
    "    \n",
    "    if r2 > 0.999:\n",
    "        print(f\"  🎉 Excellent! Formula likely discovered perfectly!\")\n",
    "    elif r2 > 0.99:\n",
    "        print(f\"  ✓ Very good fit - formula mostly discovered\")\n",
    "    elif r2 > 0.95:\n",
    "        print(f\"  ✓ Good fit - formula approximated well\")\n",
    "    \n",
    "    return r2, mse\n",
    "\n",
    "print(\"=\"*70)\n",
    "print(\"Model Evaluation Summary\")\n",
    "print(\"=\"*70)\n",
    "\n",
    "r2_sharpe, mse_sharpe = evaluate_model(model_sharpe, dataset_sharpe, \"Sharpe Ratio\")\n",
    "r2_kelly, mse_kelly = evaluate_model(model_kelly, dataset_kelly, \"Kelly Criterion\")\n",
    "r2_portfolio, mse_portfolio = evaluate_model(model_portfolio, dataset_portfolio, \"Portfolio Return\")\n",
    "\n",
    "print(\"\\n\" + \"=\"*70)"
   ]
  },
  {
   "cell_type": "markdown",
   "metadata": {},
   "source": [
    "## Try to Extract Symbolic Formulas\n",
    "\n",
    "This uses KAN's `symbolic_formula()` method to get the actual mathematical expression."
   ]
  },
  {
   "cell_type": "code",
   "execution_count": 16,
   "metadata": {},
   "outputs": [
    {
     "name": "stdout",
     "output_type": "stream",
     "text": [
      "======================================================================\n",
      "Attempting to Extract Symbolic Formulas\n",
      "======================================================================\n",
      "\n",
      "Sharpe Ratio:\n",
      "  Formula extracted: ([-0.410375028848648 + 421.926330566406*exp(-(-2.57808649912477 + 0.312841609120369*exp(-(-4.20003986358643*x_3 - 0.471999853849411)**2) + 0.113884210586548*exp(-(-10.0*x_2 - 0.399999856948853)**2) - 1.08579099178314*exp(-(-5.39991998672485*x_1 - 0.951999843120575)**2))**2)], [x_1, x_2, x_3])\n",
      "  Simplified: -513/1250 + 4219263*exp(-(-25781/10000 + 391*exp(-(-21*x_3/5 - 59/125)**2)/1250 + 1139*exp(-(-10*x_2 - 2/5)**2)/10000 - 5429*exp(-(-27*x_1/5 - 119/125)**2)/5000)**2)/10000\n",
      "\n",
      "Kelly Criterion:\n",
      "  Formula extracted: ([0], [x_1, x_2])\n",
      "  Simplified: 0\n",
      "\n",
      "Portfolio Return:\n",
      "  Formula extracted: ([0], [x_1, x_2, x_3])\n",
      "  Simplified: 0\n",
      "\n",
      "======================================================================\n"
     ]
    }
   ],
   "source": [
    "print(\"=\"*70)\n",
    "print(\"Attempting to Extract Symbolic Formulas\")\n",
    "print(\"=\"*70)\n",
    "\n",
    "# Try to extract formulas\n",
    "for model_name, model in [(\"Sharpe Ratio\", model_sharpe), \n",
    "                           (\"Kelly Criterion\", model_kelly),\n",
    "                           (\"Portfolio Return\", model_portfolio)]:\n",
    "    print(f\"\\n{model_name}:\")\n",
    "    try:\n",
    "        formula = model.symbolic_formula()\n",
    "        print(f\"  Formula extracted: {formula}\")\n",
    "        \n",
    "        # Try to simplify\n",
    "        if formula and len(formula) > 0 and len(formula[0]) > 0:\n",
    "            simplified = nsimplify(ex_round(formula[0][0], 4))\n",
    "            print(f\"  Simplified: {simplified}\")\n",
    "    except Exception as e:\n",
    "        print(f\"  Could not extract formula: {e}\")\n",
    "        print(f\"  (This is normal - symbolic extraction requires careful tuning)\")\n",
    "\n",
    "print(\"\\n\" + \"=\"*70)"
   ]
  },
  {
   "cell_type": "markdown",
   "metadata": {},
   "source": [
    "## Summary: KAN's Symbolic Regression for Finance\n",
    "\n",
    "### What We Demonstrated\n",
    "\n",
    "1. **Function Discovery**: KAN can learn financial formulas from data\n",
    "2. **Symbolic Suggestions**: `suggest_symbolic()` identifies candidate functions\n",
    "3. **Formula Extraction**: `symbolic_formula()` attempts to recover the equation\n",
    "\n",
    "### Key Findings\n",
    "\n",
    "- **Simple formulas** (Portfolio Return): KAN easily discovers linear combinations\n",
    "- **Ratio formulas** (Sharpe): KAN can learn division and subtraction\n",
    "- **Complex formulas** (Kelly): Non-linear relationships require more careful tuning\n",
    "\n",
    "### Advantages of KAN for Symbolic Regression\n",
    "\n",
    "1. **Interpretability**: Can visualize what was learned\n",
    "2. **Automatic discovery**: No need to specify functional form\n",
    "3. **Flexible**: Works for both simple and complex relationships\n",
    "4. **Compositional**: Learns functions layer by layer\n",
    "\n",
    "### Next Steps for Real Applications\n",
    "\n",
    "1. **Apply to real market data**: Discover actual trading formulas\n",
    "2. **Fix symbolic functions**: Use `fix_symbolic()` to lock in discovered functions\n",
    "3. **Refine with more steps**: Train longer for better symbolic identification\n",
    "4. **Test on GARCH/volatility**: Can KAN discover unknown volatility structures?\n",
    "\n",
    "### Practical Tips\n",
    "\n",
    "- Start with **small networks** (shallow, few neurons)\n",
    "- Use **coarse grids** (grid=3-5) for simple functions\n",
    "- Apply **regularization** (lamb > 0) to encourage simple formulas\n",
    "- **Iterate**: suggest → fix → retrain → extract\n",
    "\n",
    "This approach complements traditional econometric methods by providing a data-driven way to discover functional forms!"
   ]
  },
  {
   "cell_type": "code",
   "execution_count": 17,
   "metadata": {},
   "outputs": [
    {
     "name": "stdout",
     "output_type": "stream",
     "text": [
      "✓ Models saved to 'kan_symbolic_finance.pkl'\n",
      "\n",
      "🎉 Symbolic regression examples complete!\n"
     ]
    }
   ],
   "source": [
    "# Save models\n",
    "import pickle\n",
    "\n",
    "models_dict = {\n",
    "    'sharpe': {\n",
    "        'model_state': model_sharpe.state_dict(),\n",
    "        'config': {'width': [3, 5, 1], 'grid': 5, 'k': 3},\n",
    "        'r2': r2_sharpe,\n",
    "        'true_formula': '(mu - rf) / sigma'\n",
    "    },\n",
    "    'kelly': {\n",
    "        'model_state': model_kelly.state_dict(),\n",
    "        'config': {'width': [2, 5, 1], 'grid': 5, 'k': 3},\n",
    "        'r2': r2_kelly,\n",
    "        'true_formula': '(p*(b+1) - 1) / b'\n",
    "    },\n",
    "    'portfolio': {\n",
    "        'model_state': model_portfolio.state_dict(),\n",
    "        'config': {'width': [3, 5, 1], 'grid': 3, 'k': 3},\n",
    "        'r2': r2_portfolio,\n",
    "        'true_formula': 'w1*r1 + (1-w1)*r2'\n",
    "    }\n",
    "}\n",
    "\n",
    "with open('kan_symbolic_finance.pkl', 'wb') as f:\n",
    "    pickle.dump(models_dict, f)\n",
    "\n",
    "print(\"✓ Models saved to 'kan_symbolic_finance.pkl'\")\n",
    "print(\"\\n🎉 Symbolic regression examples complete!\")"
   ]
  },
  {
   "cell_type": "code",
   "execution_count": null,
   "metadata": {},
   "outputs": [],
   "source": []
  },
  {
   "cell_type": "code",
   "execution_count": null,
   "metadata": {},
   "outputs": [],
   "source": []
  }
 ],
 "metadata": {
  "kernelspec": {
   "display_name": "Python 3 (ipykernel)",
   "language": "python",
   "name": "python3"
  },
  "language_info": {
   "codemirror_mode": {
    "name": "ipython",
    "version": 3
   },
   "file_extension": ".py",
   "mimetype": "text/x-python",
   "name": "python",
   "nbconvert_exporter": "python",
   "pygments_lexer": "ipython3",
   "version": "3.9.6"
  }
 },
 "nbformat": 4,
 "nbformat_minor": 4
}